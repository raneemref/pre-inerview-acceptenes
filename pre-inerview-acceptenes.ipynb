{
 "cells": [
  {
   "cell_type": "code",
   "execution_count": 1,
   "id": "92229f10",
   "metadata": {
    "_cell_guid": "b1076dfc-b9ad-4769-8c92-a6c4dae69d19",
    "_uuid": "8f2839f25d086af736a60e9eeb907d3b93b6e0e5",
    "execution": {
     "iopub.execute_input": "2023-02-12T09:57:50.761053Z",
     "iopub.status.busy": "2023-02-12T09:57:50.759858Z",
     "iopub.status.idle": "2023-02-12T09:57:51.876674Z",
     "shell.execute_reply": "2023-02-12T09:57:51.875429Z"
    },
    "papermill": {
     "duration": 1.133794,
     "end_time": "2023-02-12T09:57:51.879624",
     "exception": false,
     "start_time": "2023-02-12T09:57:50.745830",
     "status": "completed"
    },
    "tags": []
   },
   "outputs": [
    {
     "data": {
      "text/html": [
       "<div>\n",
       "<style scoped>\n",
       "    .dataframe tbody tr th:only-of-type {\n",
       "        vertical-align: middle;\n",
       "    }\n",
       "\n",
       "    .dataframe tbody tr th {\n",
       "        vertical-align: top;\n",
       "    }\n",
       "\n",
       "    .dataframe thead th {\n",
       "        text-align: right;\n",
       "    }\n",
       "</style>\n",
       "<table border=\"1\" class=\"dataframe\">\n",
       "  <thead>\n",
       "    <tr style=\"text-align: right;\">\n",
       "      <th></th>\n",
       "      <th>Age</th>\n",
       "      <th>BusinessTravel</th>\n",
       "      <th>Education</th>\n",
       "      <th>MaritalStatus</th>\n",
       "      <th>OverTime</th>\n",
       "      <th>EmployeeNumber</th>\n",
       "      <th>DailyRate</th>\n",
       "      <th>Gender</th>\n",
       "      <th>accepted for the interview</th>\n",
       "    </tr>\n",
       "  </thead>\n",
       "  <tbody>\n",
       "    <tr>\n",
       "      <th>0</th>\n",
       "      <td>41</td>\n",
       "      <td>Travel_Rarely</td>\n",
       "      <td>2</td>\n",
       "      <td>Single</td>\n",
       "      <td>Yes</td>\n",
       "      <td>1</td>\n",
       "      <td>1102</td>\n",
       "      <td>Female</td>\n",
       "      <td>True</td>\n",
       "    </tr>\n",
       "    <tr>\n",
       "      <th>1</th>\n",
       "      <td>49</td>\n",
       "      <td>Travel_Frequently</td>\n",
       "      <td>1</td>\n",
       "      <td>Married</td>\n",
       "      <td>No</td>\n",
       "      <td>2</td>\n",
       "      <td>279</td>\n",
       "      <td>Male</td>\n",
       "      <td>False</td>\n",
       "    </tr>\n",
       "    <tr>\n",
       "      <th>2</th>\n",
       "      <td>37</td>\n",
       "      <td>Travel_Rarely</td>\n",
       "      <td>2</td>\n",
       "      <td>Single</td>\n",
       "      <td>Yes</td>\n",
       "      <td>4</td>\n",
       "      <td>1373</td>\n",
       "      <td>Male</td>\n",
       "      <td>False</td>\n",
       "    </tr>\n",
       "    <tr>\n",
       "      <th>3</th>\n",
       "      <td>33</td>\n",
       "      <td>Travel_Frequently</td>\n",
       "      <td>4</td>\n",
       "      <td>Married</td>\n",
       "      <td>Yes</td>\n",
       "      <td>5</td>\n",
       "      <td>1392</td>\n",
       "      <td>Female</td>\n",
       "      <td>False</td>\n",
       "    </tr>\n",
       "    <tr>\n",
       "      <th>4</th>\n",
       "      <td>27</td>\n",
       "      <td>Travel_Rarely</td>\n",
       "      <td>1</td>\n",
       "      <td>Married</td>\n",
       "      <td>No</td>\n",
       "      <td>7</td>\n",
       "      <td>591</td>\n",
       "      <td>Male</td>\n",
       "      <td>False</td>\n",
       "    </tr>\n",
       "    <tr>\n",
       "      <th>...</th>\n",
       "      <td>...</td>\n",
       "      <td>...</td>\n",
       "      <td>...</td>\n",
       "      <td>...</td>\n",
       "      <td>...</td>\n",
       "      <td>...</td>\n",
       "      <td>...</td>\n",
       "      <td>...</td>\n",
       "      <td>...</td>\n",
       "    </tr>\n",
       "    <tr>\n",
       "      <th>1487</th>\n",
       "      <td>35</td>\n",
       "      <td>Travel_Rarely</td>\n",
       "      <td>3</td>\n",
       "      <td>Married</td>\n",
       "      <td>Yes</td>\n",
       "      <td>1856</td>\n",
       "      <td>682</td>\n",
       "      <td>Male</td>\n",
       "      <td>False</td>\n",
       "    </tr>\n",
       "    <tr>\n",
       "      <th>1488</th>\n",
       "      <td>35</td>\n",
       "      <td>Travel_Rarely</td>\n",
       "      <td>4</td>\n",
       "      <td>Divorced</td>\n",
       "      <td>No</td>\n",
       "      <td>1857</td>\n",
       "      <td>1103</td>\n",
       "      <td>Male</td>\n",
       "      <td>False</td>\n",
       "    </tr>\n",
       "    <tr>\n",
       "      <th>1489</th>\n",
       "      <td>31</td>\n",
       "      <td>Travel_Rarely</td>\n",
       "      <td>3</td>\n",
       "      <td>Single</td>\n",
       "      <td>Yes</td>\n",
       "      <td>1858</td>\n",
       "      <td>976</td>\n",
       "      <td>Male</td>\n",
       "      <td>False</td>\n",
       "    </tr>\n",
       "    <tr>\n",
       "      <th>1490</th>\n",
       "      <td>37</td>\n",
       "      <td>Travel_Rarely</td>\n",
       "      <td>4</td>\n",
       "      <td>Single</td>\n",
       "      <td>No</td>\n",
       "      <td>1859</td>\n",
       "      <td>1351</td>\n",
       "      <td>Female</td>\n",
       "      <td>False</td>\n",
       "    </tr>\n",
       "    <tr>\n",
       "      <th>1491</th>\n",
       "      <td>32</td>\n",
       "      <td>Travel_Rarely</td>\n",
       "      <td>4</td>\n",
       "      <td>Married</td>\n",
       "      <td>No</td>\n",
       "      <td>1858</td>\n",
       "      <td>1103</td>\n",
       "      <td>Female</td>\n",
       "      <td>False</td>\n",
       "    </tr>\n",
       "  </tbody>\n",
       "</table>\n",
       "<p>1492 rows × 9 columns</p>\n",
       "</div>"
      ],
      "text/plain": [
       "      Age     BusinessTravel  Education MaritalStatus OverTime  \\\n",
       "0      41      Travel_Rarely          2        Single      Yes   \n",
       "1      49  Travel_Frequently          1       Married       No   \n",
       "2      37      Travel_Rarely          2        Single      Yes   \n",
       "3      33  Travel_Frequently          4       Married      Yes   \n",
       "4      27      Travel_Rarely          1       Married       No   \n",
       "...   ...                ...        ...           ...      ...   \n",
       "1487   35      Travel_Rarely          3       Married      Yes   \n",
       "1488   35      Travel_Rarely          4      Divorced       No   \n",
       "1489   31      Travel_Rarely          3        Single      Yes   \n",
       "1490   37      Travel_Rarely          4        Single       No   \n",
       "1491   32      Travel_Rarely          4       Married       No   \n",
       "\n",
       "      EmployeeNumber  DailyRate  Gender  accepted for the interview  \n",
       "0                  1       1102  Female                        True  \n",
       "1                  2        279    Male                       False  \n",
       "2                  4       1373    Male                       False  \n",
       "3                  5       1392  Female                       False  \n",
       "4                  7        591    Male                       False  \n",
       "...              ...        ...     ...                         ...  \n",
       "1487            1856        682    Male                       False  \n",
       "1488            1857       1103    Male                       False  \n",
       "1489            1858        976    Male                       False  \n",
       "1490            1859       1351  Female                       False  \n",
       "1491            1858       1103  Female                       False  \n",
       "\n",
       "[1492 rows x 9 columns]"
      ]
     },
     "execution_count": 1,
     "metadata": {},
     "output_type": "execute_result"
    }
   ],
   "source": [
    "import pandas as pd \n",
    "import seaborn as sns\n",
    "df = pd.read_csv('/kaggle/input/pre-interview-acceptance/logatta.csv')\n",
    "df\n"
   ]
  },
  {
   "cell_type": "code",
   "execution_count": 2,
   "id": "b495a342",
   "metadata": {
    "execution": {
     "iopub.execute_input": "2023-02-12T09:57:51.893081Z",
     "iopub.status.busy": "2023-02-12T09:57:51.892675Z",
     "iopub.status.idle": "2023-02-12T09:57:51.918290Z",
     "shell.execute_reply": "2023-02-12T09:57:51.917120Z"
    },
    "papermill": {
     "duration": 0.035775,
     "end_time": "2023-02-12T09:57:51.921397",
     "exception": false,
     "start_time": "2023-02-12T09:57:51.885622",
     "status": "completed"
    },
    "tags": []
   },
   "outputs": [
    {
     "name": "stdout",
     "output_type": "stream",
     "text": [
      "<class 'pandas.core.frame.DataFrame'>\n",
      "RangeIndex: 1492 entries, 0 to 1491\n",
      "Data columns (total 9 columns):\n",
      " #   Column                      Non-Null Count  Dtype \n",
      "---  ------                      --------------  ----- \n",
      " 0   Age                         1492 non-null   int64 \n",
      " 1   BusinessTravel              1492 non-null   object\n",
      " 2   Education                   1492 non-null   int64 \n",
      " 3   MaritalStatus               1492 non-null   object\n",
      " 4   OverTime                    1492 non-null   object\n",
      " 5   EmployeeNumber              1492 non-null   int64 \n",
      " 6   DailyRate                   1492 non-null   int64 \n",
      " 7   Gender                      1492 non-null   object\n",
      " 8   accepted for the interview  1492 non-null   bool  \n",
      "dtypes: bool(1), int64(4), object(4)\n",
      "memory usage: 94.8+ KB\n"
     ]
    }
   ],
   "source": [
    "df.info()"
   ]
  },
  {
   "cell_type": "code",
   "execution_count": 3,
   "id": "bc7593cd",
   "metadata": {
    "execution": {
     "iopub.execute_input": "2023-02-12T09:57:51.937417Z",
     "iopub.status.busy": "2023-02-12T09:57:51.936747Z",
     "iopub.status.idle": "2023-02-12T09:57:51.946032Z",
     "shell.execute_reply": "2023-02-12T09:57:51.944790Z"
    },
    "papermill": {
     "duration": 0.020057,
     "end_time": "2023-02-12T09:57:51.948248",
     "exception": false,
     "start_time": "2023-02-12T09:57:51.928191",
     "status": "completed"
    },
    "tags": []
   },
   "outputs": [
    {
     "data": {
      "text/plain": [
       "Index(['Age', 'BusinessTravel', 'Education', 'MaritalStatus', 'OverTime',\n",
       "       'EmployeeNumber', 'DailyRate', 'Gender', 'accepted for the interview'],\n",
       "      dtype='object')"
      ]
     },
     "execution_count": 3,
     "metadata": {},
     "output_type": "execute_result"
    }
   ],
   "source": [
    "df.columns"
   ]
  },
  {
   "cell_type": "code",
   "execution_count": 4,
   "id": "d96cfd03",
   "metadata": {
    "execution": {
     "iopub.execute_input": "2023-02-12T09:57:51.962833Z",
     "iopub.status.busy": "2023-02-12T09:57:51.962436Z",
     "iopub.status.idle": "2023-02-12T09:57:51.970142Z",
     "shell.execute_reply": "2023-02-12T09:57:51.968844Z"
    },
    "papermill": {
     "duration": 0.017906,
     "end_time": "2023-02-12T09:57:51.972346",
     "exception": false,
     "start_time": "2023-02-12T09:57:51.954440",
     "status": "completed"
    },
    "tags": []
   },
   "outputs": [],
   "source": [
    "df=df.astype({'accepted for the interview':\"int32\"})"
   ]
  },
  {
   "cell_type": "code",
   "execution_count": 5,
   "id": "9b47429d",
   "metadata": {
    "execution": {
     "iopub.execute_input": "2023-02-12T09:57:51.986746Z",
     "iopub.status.busy": "2023-02-12T09:57:51.986092Z",
     "iopub.status.idle": "2023-02-12T09:57:51.993461Z",
     "shell.execute_reply": "2023-02-12T09:57:51.992485Z"
    },
    "papermill": {
     "duration": 0.017266,
     "end_time": "2023-02-12T09:57:51.995696",
     "exception": false,
     "start_time": "2023-02-12T09:57:51.978430",
     "status": "completed"
    },
    "tags": []
   },
   "outputs": [
    {
     "data": {
      "text/plain": [
       "array(['Travel_Rarely', 'Travel_Frequently', 'Non-Travel'], dtype=object)"
      ]
     },
     "execution_count": 5,
     "metadata": {},
     "output_type": "execute_result"
    }
   ],
   "source": [
    "df[\"BusinessTravel\"].unique()"
   ]
  },
  {
   "cell_type": "code",
   "execution_count": 6,
   "id": "7fb7d406",
   "metadata": {
    "execution": {
     "iopub.execute_input": "2023-02-12T09:57:52.010996Z",
     "iopub.status.busy": "2023-02-12T09:57:52.010043Z",
     "iopub.status.idle": "2023-02-12T09:57:52.159135Z",
     "shell.execute_reply": "2023-02-12T09:57:52.157911Z"
    },
    "papermill": {
     "duration": 0.159797,
     "end_time": "2023-02-12T09:57:52.162102",
     "exception": false,
     "start_time": "2023-02-12T09:57:52.002305",
     "status": "completed"
    },
    "tags": []
   },
   "outputs": [],
   "source": [
    "from sklearn.preprocessing import OrdinalEncoder\n",
    "for i in [\"BusinessTravel\",\"MaritalStatus\"]:\n",
    "    ordinal =OrdinalEncoder()\n",
    "    df[[i]]=ordinal.fit_transform(df[[i]])"
   ]
  },
  {
   "cell_type": "code",
   "execution_count": 7,
   "id": "90253977",
   "metadata": {
    "execution": {
     "iopub.execute_input": "2023-02-12T09:57:52.176864Z",
     "iopub.status.busy": "2023-02-12T09:57:52.176476Z",
     "iopub.status.idle": "2023-02-12T09:57:52.197276Z",
     "shell.execute_reply": "2023-02-12T09:57:52.196107Z"
    },
    "papermill": {
     "duration": 0.031469,
     "end_time": "2023-02-12T09:57:52.200023",
     "exception": false,
     "start_time": "2023-02-12T09:57:52.168554",
     "status": "completed"
    },
    "tags": []
   },
   "outputs": [],
   "source": [
    "for i in [\"OverTime\",\"Gender\"]:\n",
    "    x=pd.get_dummies(df[[i]])\n",
    "    x=x.drop(x.columns[-1],axis=1)\n",
    "    df=pd.concat([df,x],axis=1)\n",
    "    df=df.drop(i,axis=1)"
   ]
  },
  {
   "cell_type": "code",
   "execution_count": 8,
   "id": "c5f8ad7d",
   "metadata": {
    "execution": {
     "iopub.execute_input": "2023-02-12T09:57:52.214393Z",
     "iopub.status.busy": "2023-02-12T09:57:52.213954Z",
     "iopub.status.idle": "2023-02-12T09:57:52.233479Z",
     "shell.execute_reply": "2023-02-12T09:57:52.232276Z"
    },
    "papermill": {
     "duration": 0.029411,
     "end_time": "2023-02-12T09:57:52.235781",
     "exception": false,
     "start_time": "2023-02-12T09:57:52.206370",
     "status": "completed"
    },
    "tags": []
   },
   "outputs": [],
   "source": [
    "from sklearn.preprocessing import StandardScaler\n",
    "for i  in [\"DailyRate\",\"Age\"] :\n",
    "    std =StandardScaler()\n",
    "    df[[i]]=std.fit_transform(df[[i]])"
   ]
  },
  {
   "cell_type": "code",
   "execution_count": 9,
   "id": "9c7dde69",
   "metadata": {
    "execution": {
     "iopub.execute_input": "2023-02-12T09:57:52.251489Z",
     "iopub.status.busy": "2023-02-12T09:57:52.251081Z",
     "iopub.status.idle": "2023-02-12T09:57:52.257968Z",
     "shell.execute_reply": "2023-02-12T09:57:52.256917Z"
    },
    "papermill": {
     "duration": 0.018031,
     "end_time": "2023-02-12T09:57:52.260380",
     "exception": false,
     "start_time": "2023-02-12T09:57:52.242349",
     "status": "completed"
    },
    "tags": []
   },
   "outputs": [],
   "source": [
    "df=df.drop([\"EmployeeNumber\"],axis=1)"
   ]
  },
  {
   "cell_type": "code",
   "execution_count": 10,
   "id": "7a4ccd1c",
   "metadata": {
    "execution": {
     "iopub.execute_input": "2023-02-12T09:57:52.274495Z",
     "iopub.status.busy": "2023-02-12T09:57:52.273729Z",
     "iopub.status.idle": "2023-02-12T09:57:52.294422Z",
     "shell.execute_reply": "2023-02-12T09:57:52.292960Z"
    },
    "papermill": {
     "duration": 0.03029,
     "end_time": "2023-02-12T09:57:52.296914",
     "exception": false,
     "start_time": "2023-02-12T09:57:52.266624",
     "status": "completed"
    },
    "tags": []
   },
   "outputs": [
    {
     "data": {
      "text/html": [
       "<div>\n",
       "<style scoped>\n",
       "    .dataframe tbody tr th:only-of-type {\n",
       "        vertical-align: middle;\n",
       "    }\n",
       "\n",
       "    .dataframe tbody tr th {\n",
       "        vertical-align: top;\n",
       "    }\n",
       "\n",
       "    .dataframe thead th {\n",
       "        text-align: right;\n",
       "    }\n",
       "</style>\n",
       "<table border=\"1\" class=\"dataframe\">\n",
       "  <thead>\n",
       "    <tr style=\"text-align: right;\">\n",
       "      <th></th>\n",
       "      <th>Age</th>\n",
       "      <th>BusinessTravel</th>\n",
       "      <th>Education</th>\n",
       "      <th>MaritalStatus</th>\n",
       "      <th>DailyRate</th>\n",
       "      <th>accepted for the interview</th>\n",
       "      <th>OverTime_No</th>\n",
       "      <th>Gender_Female</th>\n",
       "    </tr>\n",
       "  </thead>\n",
       "  <tbody>\n",
       "    <tr>\n",
       "      <th>0</th>\n",
       "      <td>0.452168</td>\n",
       "      <td>2.0</td>\n",
       "      <td>2</td>\n",
       "      <td>2.0</td>\n",
       "      <td>0.735781</td>\n",
       "      <td>1</td>\n",
       "      <td>0</td>\n",
       "      <td>1</td>\n",
       "    </tr>\n",
       "    <tr>\n",
       "      <th>1</th>\n",
       "      <td>1.331314</td>\n",
       "      <td>1.0</td>\n",
       "      <td>1</td>\n",
       "      <td>1.0</td>\n",
       "      <td>-1.303018</td>\n",
       "      <td>0</td>\n",
       "      <td>1</td>\n",
       "      <td>0</td>\n",
       "    </tr>\n",
       "    <tr>\n",
       "      <th>2</th>\n",
       "      <td>0.012595</td>\n",
       "      <td>2.0</td>\n",
       "      <td>2</td>\n",
       "      <td>2.0</td>\n",
       "      <td>1.407124</td>\n",
       "      <td>0</td>\n",
       "      <td>0</td>\n",
       "      <td>0</td>\n",
       "    </tr>\n",
       "    <tr>\n",
       "      <th>3</th>\n",
       "      <td>-0.426978</td>\n",
       "      <td>1.0</td>\n",
       "      <td>4</td>\n",
       "      <td>1.0</td>\n",
       "      <td>1.454192</td>\n",
       "      <td>0</td>\n",
       "      <td>0</td>\n",
       "      <td>1</td>\n",
       "    </tr>\n",
       "    <tr>\n",
       "      <th>4</th>\n",
       "      <td>-1.086338</td>\n",
       "      <td>2.0</td>\n",
       "      <td>1</td>\n",
       "      <td>1.0</td>\n",
       "      <td>-0.530108</td>\n",
       "      <td>0</td>\n",
       "      <td>1</td>\n",
       "      <td>0</td>\n",
       "    </tr>\n",
       "    <tr>\n",
       "      <th>...</th>\n",
       "      <td>...</td>\n",
       "      <td>...</td>\n",
       "      <td>...</td>\n",
       "      <td>...</td>\n",
       "      <td>...</td>\n",
       "      <td>...</td>\n",
       "      <td>...</td>\n",
       "      <td>...</td>\n",
       "    </tr>\n",
       "    <tr>\n",
       "      <th>1487</th>\n",
       "      <td>-0.207192</td>\n",
       "      <td>2.0</td>\n",
       "      <td>3</td>\n",
       "      <td>1.0</td>\n",
       "      <td>-0.304675</td>\n",
       "      <td>0</td>\n",
       "      <td>0</td>\n",
       "      <td>0</td>\n",
       "    </tr>\n",
       "    <tr>\n",
       "      <th>1488</th>\n",
       "      <td>-0.207192</td>\n",
       "      <td>2.0</td>\n",
       "      <td>4</td>\n",
       "      <td>0.0</td>\n",
       "      <td>0.738259</td>\n",
       "      <td>0</td>\n",
       "      <td>1</td>\n",
       "      <td>0</td>\n",
       "    </tr>\n",
       "    <tr>\n",
       "      <th>1489</th>\n",
       "      <td>-0.646765</td>\n",
       "      <td>2.0</td>\n",
       "      <td>3</td>\n",
       "      <td>2.0</td>\n",
       "      <td>0.423644</td>\n",
       "      <td>0</td>\n",
       "      <td>0</td>\n",
       "      <td>0</td>\n",
       "    </tr>\n",
       "    <tr>\n",
       "      <th>1490</th>\n",
       "      <td>0.012595</td>\n",
       "      <td>2.0</td>\n",
       "      <td>4</td>\n",
       "      <td>2.0</td>\n",
       "      <td>1.352624</td>\n",
       "      <td>0</td>\n",
       "      <td>1</td>\n",
       "      <td>1</td>\n",
       "    </tr>\n",
       "    <tr>\n",
       "      <th>1491</th>\n",
       "      <td>-0.536871</td>\n",
       "      <td>2.0</td>\n",
       "      <td>4</td>\n",
       "      <td>1.0</td>\n",
       "      <td>0.738259</td>\n",
       "      <td>0</td>\n",
       "      <td>1</td>\n",
       "      <td>1</td>\n",
       "    </tr>\n",
       "  </tbody>\n",
       "</table>\n",
       "<p>1492 rows × 8 columns</p>\n",
       "</div>"
      ],
      "text/plain": [
       "           Age  BusinessTravel  Education  MaritalStatus  DailyRate  \\\n",
       "0     0.452168             2.0          2            2.0   0.735781   \n",
       "1     1.331314             1.0          1            1.0  -1.303018   \n",
       "2     0.012595             2.0          2            2.0   1.407124   \n",
       "3    -0.426978             1.0          4            1.0   1.454192   \n",
       "4    -1.086338             2.0          1            1.0  -0.530108   \n",
       "...        ...             ...        ...            ...        ...   \n",
       "1487 -0.207192             2.0          3            1.0  -0.304675   \n",
       "1488 -0.207192             2.0          4            0.0   0.738259   \n",
       "1489 -0.646765             2.0          3            2.0   0.423644   \n",
       "1490  0.012595             2.0          4            2.0   1.352624   \n",
       "1491 -0.536871             2.0          4            1.0   0.738259   \n",
       "\n",
       "      accepted for the interview  OverTime_No  Gender_Female  \n",
       "0                              1            0              1  \n",
       "1                              0            1              0  \n",
       "2                              0            0              0  \n",
       "3                              0            0              1  \n",
       "4                              0            1              0  \n",
       "...                          ...          ...            ...  \n",
       "1487                           0            0              0  \n",
       "1488                           0            1              0  \n",
       "1489                           0            0              0  \n",
       "1490                           0            1              1  \n",
       "1491                           0            1              1  \n",
       "\n",
       "[1492 rows x 8 columns]"
      ]
     },
     "execution_count": 10,
     "metadata": {},
     "output_type": "execute_result"
    }
   ],
   "source": [
    "df"
   ]
  },
  {
   "cell_type": "code",
   "execution_count": 11,
   "id": "09d54d8f",
   "metadata": {
    "execution": {
     "iopub.execute_input": "2023-02-12T09:57:52.311251Z",
     "iopub.status.busy": "2023-02-12T09:57:52.310831Z",
     "iopub.status.idle": "2023-02-12T09:57:52.944625Z",
     "shell.execute_reply": "2023-02-12T09:57:52.943175Z"
    },
    "papermill": {
     "duration": 0.644087,
     "end_time": "2023-02-12T09:57:52.947463",
     "exception": false,
     "start_time": "2023-02-12T09:57:52.303376",
     "status": "completed"
    },
    "tags": []
   },
   "outputs": [
    {
     "data": {
      "text/plain": [
       "<AxesSubplot:>"
      ]
     },
     "execution_count": 11,
     "metadata": {},
     "output_type": "execute_result"
    },
    {
     "data": {
      "image/png": "[encoded data removed]",
      "text/plain": [
       "<Figure size 432x288 with 2 Axes>"
      ]
     },
     "metadata": {
      "needs_background": "light"
     },
     "output_type": "display_data"
    }
   ],
   "source": [
    "sns.heatmap(df.corr() ,annot=True)"
   ]
  },
  {
   "cell_type": "code",
   "execution_count": 12,
   "id": "8189b86f",
   "metadata": {
    "execution": {
     "iopub.execute_input": "2023-02-12T09:57:52.964441Z",
     "iopub.status.busy": "2023-02-12T09:57:52.964025Z",
     "iopub.status.idle": "2023-02-12T09:57:52.974687Z",
     "shell.execute_reply": "2023-02-12T09:57:52.973032Z"
    },
    "papermill": {
     "duration": 0.022596,
     "end_time": "2023-02-12T09:57:52.977659",
     "exception": false,
     "start_time": "2023-02-12T09:57:52.955063",
     "status": "completed"
    },
    "tags": []
   },
   "outputs": [],
   "source": [
    "y=df['accepted for the interview']\n",
    "X=df.drop(['accepted for the interview'],axis=1)"
   ]
  },
  {
   "cell_type": "code",
   "execution_count": 13,
   "id": "b580fd1d",
   "metadata": {
    "execution": {
     "iopub.execute_input": "2023-02-12T09:57:52.994716Z",
     "iopub.status.busy": "2023-02-12T09:57:52.994301Z",
     "iopub.status.idle": "2023-02-12T09:57:53.048342Z",
     "shell.execute_reply": "2023-02-12T09:57:53.047420Z"
    },
    "papermill": {
     "duration": 0.065648,
     "end_time": "2023-02-12T09:57:53.050819",
     "exception": false,
     "start_time": "2023-02-12T09:57:52.985171",
     "status": "completed"
    },
    "tags": []
   },
   "outputs": [],
   "source": [
    "from sklearn.model_selection import train_test_split\n",
    "X_train, X_test, y_train, y_test = train_test_split(X, y,test_size=0.30,random_state=42)"
   ]
  },
  {
   "cell_type": "code",
   "execution_count": 14,
   "id": "e48b7117",
   "metadata": {
    "execution": {
     "iopub.execute_input": "2023-02-12T09:57:53.069662Z",
     "iopub.status.busy": "2023-02-12T09:57:53.068560Z",
     "iopub.status.idle": "2023-02-12T09:57:53.170236Z",
     "shell.execute_reply": "2023-02-12T09:57:53.168993Z"
    },
    "papermill": {
     "duration": 0.114019,
     "end_time": "2023-02-12T09:57:53.173211",
     "exception": false,
     "start_time": "2023-02-12T09:57:53.059192",
     "status": "completed"
    },
    "tags": []
   },
   "outputs": [],
   "source": [
    "from sklearn.linear_model import LogisticRegression\n",
    "logreg = LogisticRegression()\n",
    "logreg.fit(X_train,y_train)\n",
    "y_pred = logreg.predict(X_test)"
   ]
  },
  {
   "cell_type": "code",
   "execution_count": 15,
   "id": "cc4de303",
   "metadata": {
    "execution": {
     "iopub.execute_input": "2023-02-12T09:57:53.190484Z",
     "iopub.status.busy": "2023-02-12T09:57:53.190032Z",
     "iopub.status.idle": "2023-02-12T09:57:53.201875Z",
     "shell.execute_reply": "2023-02-12T09:57:53.200951Z"
    },
    "papermill": {
     "duration": 0.023291,
     "end_time": "2023-02-12T09:57:53.204383",
     "exception": false,
     "start_time": "2023-02-12T09:57:53.181092",
     "status": "completed"
    },
    "tags": []
   },
   "outputs": [],
   "source": [
    "from sklearn.naive_bayes import GaussianNB\n",
    "model = GaussianNB()\n",
    "model.fit(X_train,y_train)\n",
    "y_pred2 = model.predict(X_test)"
   ]
  },
  {
   "cell_type": "code",
   "execution_count": 16,
   "id": "3badbb5e",
   "metadata": {
    "execution": {
     "iopub.execute_input": "2023-02-12T09:57:53.222396Z",
     "iopub.status.busy": "2023-02-12T09:57:53.221206Z",
     "iopub.status.idle": "2023-02-12T09:57:53.296056Z",
     "shell.execute_reply": "2023-02-12T09:57:53.295034Z"
    },
    "papermill": {
     "duration": 0.087057,
     "end_time": "2023-02-12T09:57:53.299172",
     "exception": false,
     "start_time": "2023-02-12T09:57:53.212115",
     "status": "completed"
    },
    "tags": []
   },
   "outputs": [],
   "source": [
    "from sklearn.neighbors import KNeighborsClassifier\n",
    "knn = KNeighborsClassifier(n_neighbors=5)\n",
    "knn.fit(X_train, y_train)\n",
    "y_pred3 = knn.predict(X_test)"
   ]
  },
  {
   "cell_type": "code",
   "execution_count": 17,
   "id": "09e9f0d4",
   "metadata": {
    "execution": {
     "iopub.execute_input": "2023-02-12T09:57:53.317380Z",
     "iopub.status.busy": "2023-02-12T09:57:53.315964Z",
     "iopub.status.idle": "2023-02-12T09:57:53.322673Z",
     "shell.execute_reply": "2023-02-12T09:57:53.321529Z"
    },
    "papermill": {
     "duration": 0.018201,
     "end_time": "2023-02-12T09:57:53.325152",
     "exception": false,
     "start_time": "2023-02-12T09:57:53.306951",
     "status": "completed"
    },
    "tags": []
   },
   "outputs": [],
   "source": [
    "model_pipeline = []\n",
    "model_pipeline.append(LogisticRegression())\n",
    "model_pipeline.append(KNeighborsClassifier())\n",
    "model_pipeline.append(GaussianNB())"
   ]
  },
  {
   "cell_type": "code",
   "execution_count": 18,
   "id": "6ca8cd06",
   "metadata": {
    "execution": {
     "iopub.execute_input": "2023-02-12T09:57:53.343938Z",
     "iopub.status.busy": "2023-02-12T09:57:53.343384Z",
     "iopub.status.idle": "2023-02-12T09:57:53.396630Z",
     "shell.execute_reply": "2023-02-12T09:57:53.395467Z"
    },
    "papermill": {
     "duration": 0.066747,
     "end_time": "2023-02-12T09:57:53.399538",
     "exception": false,
     "start_time": "2023-02-12T09:57:53.332791",
     "status": "completed"
    },
    "tags": []
   },
   "outputs": [],
   "source": [
    "from sklearn import metrics\n",
    "from sklearn.metrics import classification_report\n",
    "from sklearn.metrics import confusion_matrix\n",
    "model_list =('Logistic Regression','Naive Bayes ', ' KNN')\n",
    "acc_list = []\n",
    "auc_list =[]\n",
    "cm_list =[]\n",
    "\n",
    "for model in model_pipeline:\n",
    "    model.fit(X_train, y_train)\n",
    "    y_pred = model.predict(X_test)\n",
    "    acc_list.append(metrics.accuracy_score(y_test, y_pred))\n",
    "    fpr, tpr, _thresholds = metrics.roc_curve(y_test, y_pred)\n",
    "    auc_list.append (round(metrics.auc(fpr, tpr), 2))\n",
    "    cm_list.append (confusion_matrix(y_test, y_pred))"
   ]
  },
  {
   "cell_type": "code",
   "execution_count": 19,
   "id": "b7abd2fc",
   "metadata": {
    "execution": {
     "iopub.execute_input": "2023-02-12T09:57:53.417261Z",
     "iopub.status.busy": "2023-02-12T09:57:53.416159Z",
     "iopub.status.idle": "2023-02-12T09:57:53.428029Z",
     "shell.execute_reply": "2023-02-12T09:57:53.426933Z"
    },
    "papermill": {
     "duration": 0.023171,
     "end_time": "2023-02-12T09:57:53.430464",
     "exception": false,
     "start_time": "2023-02-12T09:57:53.407293",
     "status": "completed"
    },
    "tags": []
   },
   "outputs": [
    {
     "data": {
      "text/html": [
       "<div>\n",
       "<style scoped>\n",
       "    .dataframe tbody tr th:only-of-type {\n",
       "        vertical-align: middle;\n",
       "    }\n",
       "\n",
       "    .dataframe tbody tr th {\n",
       "        vertical-align: top;\n",
       "    }\n",
       "\n",
       "    .dataframe thead th {\n",
       "        text-align: right;\n",
       "    }\n",
       "</style>\n",
       "<table border=\"1\" class=\"dataframe\">\n",
       "  <thead>\n",
       "    <tr style=\"text-align: right;\">\n",
       "      <th></th>\n",
       "      <th>Model</th>\n",
       "      <th>Acc</th>\n",
       "      <th>Auc</th>\n",
       "    </tr>\n",
       "  </thead>\n",
       "  <tbody>\n",
       "    <tr>\n",
       "      <th>0</th>\n",
       "      <td>Logistic Regression</td>\n",
       "      <td>0.908482</td>\n",
       "      <td>0.62</td>\n",
       "    </tr>\n",
       "    <tr>\n",
       "      <th>1</th>\n",
       "      <td>Naive Bayes</td>\n",
       "      <td>0.968750</td>\n",
       "      <td>0.86</td>\n",
       "    </tr>\n",
       "    <tr>\n",
       "      <th>2</th>\n",
       "      <td>KNN</td>\n",
       "      <td>0.883929</td>\n",
       "      <td>0.92</td>\n",
       "    </tr>\n",
       "  </tbody>\n",
       "</table>\n",
       "</div>"
      ],
      "text/plain": [
       "                 Model       Acc   Auc\n",
       "0  Logistic Regression  0.908482  0.62\n",
       "1         Naive Bayes   0.968750  0.86\n",
       "2                  KNN  0.883929  0.92"
      ]
     },
     "execution_count": 19,
     "metadata": {},
     "output_type": "execute_result"
    }
   ],
   "source": [
    "result_df =pd.DataFrame({'Model':model_list,'Acc':acc_list,'Auc':auc_list})\n",
    "result_df"
   ]
  },
  {
   "cell_type": "code",
   "execution_count": 20,
   "id": "a89e9bd1",
   "metadata": {
    "execution": {
     "iopub.execute_input": "2023-02-12T09:57:53.450058Z",
     "iopub.status.busy": "2023-02-12T09:57:53.447809Z",
     "iopub.status.idle": "2023-02-12T09:57:54.081368Z",
     "shell.execute_reply": "2023-02-12T09:57:54.080140Z"
    },
    "papermill": {
     "duration": 0.645901,
     "end_time": "2023-02-12T09:57:54.083762",
     "exception": false,
     "start_time": "2023-02-12T09:57:53.437861",
     "status": "completed"
    },
    "tags": []
   },
   "outputs": [
    {
     "data": {
      "image/png": "[encoded data removed]",
      "text/plain": [
       "<Figure size 1296x720 with 6 Axes>"
      ]
     },
     "metadata": {
      "needs_background": "light"
     },
     "output_type": "display_data"
    }
   ],
   "source": [
    "#confusion matrix\n",
    "import matplotlib.pyplot as plt \n",
    "fig = plt.figure(figsize=(18,10))\n",
    "for i in range(len(cm_list)):\n",
    "    cm= cm_list[i]\n",
    "    model = model_list[i]\n",
    "    sub = fig.add_subplot(2,3,i+1).set_title(model)\n",
    "    cm_plot=sns.heatmap(cm, annot=True , cmap='Blues_r')\n",
    "    cm_plot.set_xlabel('pv')\n",
    "    cm_plot.set_ylabel('av')"
   ]
  },
  {
   "cell_type": "code",
   "execution_count": null,
   "id": "3813a4ae",
   "metadata": {
    "papermill": {
     "duration": 0.007648,
     "end_time": "2023-02-12T09:57:54.099287",
     "exception": false,
     "start_time": "2023-02-12T09:57:54.091639",
     "status": "completed"
    },
    "tags": []
   },
   "outputs": [],
   "source": []
  }
 ],
 "metadata": {
  "kernelspec": {
   "display_name": "Python 3",
   "language": "python",
   "name": "python3"
  },
  "language_info": {
   "codemirror_mode": {
    "name": "ipython",
    "version": 3
   },
   "file_extension": ".py",
   "mimetype": "text/x-python",
   "name": "python",
   "nbconvert_exporter": "python",
   "pygments_lexer": "ipython3",
   "version": "3.7.12"
  },
  "papermill": {
   "default_parameters": {},
   "duration": 12.966094,
   "end_time": "2023-02-12T09:57:54.930808",
   "environment_variables": {},
   "exception": null,
   "input_path": "__notebook__.ipynb",
   "output_path": "__notebook__.ipynb",
   "parameters": {},
   "start_time": "2023-02-12T09:57:41.964714",
   "version": "2.3.4"
  }
 },
 "nbformat": 4,
 "nbformat_minor": 5
}
